{
 "cells": [
  {
   "cell_type": "markdown",
   "id": "f22babaf-564e-4874-852c-f5a86f283ec7",
   "metadata": {},
   "source": [
    "Q1. What is MongoDB? Explain non-relational databases in short. In which scenarios it is preferred to use\n",
    "MongoDB over SQL databases?"
   ]
  },
  {
   "cell_type": "markdown",
   "id": "1fdfc791-2559-4b46-b11c-49b807e96fee",
   "metadata": {},
   "source": [
    "Ans_1 : MongoDB is NoSQL Database used to store flexible stores data in a flexible, document-oriented\n",
    "format using BSON (Binary JSON) documents. MongoDB is designed to handle large volumes of unstructured \n",
    "or semi-structured data and is particularly well-suited for applications with changing data requirements \n",
    "and scalability needs."
   ]
  },
  {
   "cell_type": "markdown",
   "id": "e0fdcb3e-e56f-40e5-a3a4-a7c1df2f47d2",
   "metadata": {},
   "source": [
    "Q2. State and Explain the features of MongoDB."
   ]
  },
  {
   "cell_type": "markdown",
   "id": "8b43e4f6-a45a-4261-a7aa-7baaf797198a",
   "metadata": {},
   "source": [
    "Ans_2 : There are several features of MongoDB as it is suitable for handling diverse data needs.\n",
    "\n",
    "1) Document-Oriented Storage: MongoDB stores data in flexible, JSON-like BSON (Binary JSON) documents. \n",
    "   Each document can have varying fields and structures, allowing for natural representation of complex data.\n",
    "    \n",
    "2) Schema Flexibility: MongoDB's dynamic schema allows you to change the structure of records without affecting \n",
    "   the entire database. This flexibility is useful for applications with evolving data requirements.\n",
    "\n",
    "3) Horizontal Scalability: MongoDB supports horizontal scaling, enabling you to distribute data across multiple\n",
    "   servers or nodes. This feature is crucial for handling large datasets and high-velocity workloads.\n",
    "    \n",
    "4) High Availability: MongoDB supports replica sets, allowing for automatic failover in case of primary node \n",
    "   failure. This ensures data availability and minimizes downtime."
   ]
  },
  {
   "cell_type": "markdown",
   "id": "10e0d224-1e2a-457b-92bb-1439100b5f09",
   "metadata": {},
   "source": [
    "Q3. Write a code to connect MongoDB to Python. Also, create a database and a collection in MongoDB."
   ]
  },
  {
   "cell_type": "raw",
   "id": "017d9c08-1a6f-45df-89ea-484d58f5c60a",
   "metadata": {},
   "source": [
    "import pymongo\n",
    "client = pymongo.MongoClient(\"mongodb://localhost:27017/\") \n",
    "mydb = client[\"mydatabase\"]"
   ]
  },
  {
   "cell_type": "markdown",
   "id": "30dbb9e1-79fa-4384-813c-26b4be02b38b",
   "metadata": {},
   "source": [
    "Q4. Explain how you can use the find() method to query the MongoDB database. Write a simple code to\n",
    "demonstrate this."
   ]
  },
  {
   "cell_type": "raw",
   "id": "7138f785-16ce-4926-a2d9-0511bac28164",
   "metadata": {},
   "source": [
    "Ans_4 : In MongoDB, the find() method is used to query a collection and retrieve documents that match a \n",
    "specified query criteria.\n",
    "\n",
    "\n",
    "import pymongo\n",
    "client = pymongo.MongoClient(\"mongodb://localhost:27017/\") \n",
    "mydb = client[\"mydatabase\"]\n",
    "mycollection = mydb[\"mycollection\"]\n",
    "query = {\"age\": {\"$gte\": 25}}\n",
    "results = mycollection.find(query)"
   ]
  },
  {
   "cell_type": "markdown",
   "id": "6a20baca-a695-4c32-a1c8-7dd115bcaedc",
   "metadata": {},
   "source": [
    "Q5. Explain the sort() method. Give an example to demonstrate sorting in MongoDB."
   ]
  },
  {
   "cell_type": "markdown",
   "id": "e2f2dc97-5fdf-4d58-81fb-01f7cc19f315",
   "metadata": {},
   "source": [
    "Ans_5 : The sort() method is used to specify the order in which the retrieved documents should be sorted.\n",
    "\n",
    "collection.find(query).sort(sort_key, sort_order)\n"
   ]
  },
  {
   "cell_type": "markdown",
   "id": "03d4b578-646b-4575-bac1-01d8fbf6e67a",
   "metadata": {},
   "source": [
    "Q6. Explain why delete_one(), delete_many(), and drop() is used."
   ]
  },
  {
   "cell_type": "code",
   "execution_count": null,
   "id": "d71e6a9a-7a1c-47b0-9c09-4f38fc277a52",
   "metadata": {},
   "outputs": [],
   "source": [
    "Ans_6 : \n",
    "    \n",
    "    1) delete_one : The delete_one() method is used to delete a single document that matches a specified\n",
    "       filter/query from a collection.\n",
    "        \n",
    "    2) delete"
   ]
  }
 ],
 "metadata": {
  "kernelspec": {
   "display_name": "Python 3 (ipykernel)",
   "language": "python",
   "name": "python3"
  },
  "language_info": {
   "codemirror_mode": {
    "name": "ipython",
    "version": 3
   },
   "file_extension": ".py",
   "mimetype": "text/x-python",
   "name": "python",
   "nbconvert_exporter": "python",
   "pygments_lexer": "ipython3",
   "version": "3.10.8"
  }
 },
 "nbformat": 4,
 "nbformat_minor": 5
}
