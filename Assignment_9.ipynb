{
 "cells": [
  {
   "cell_type": "markdown",
   "id": "e26ac064-fdb5-45dc-bd84-c90d5fc403ae",
   "metadata": {},
   "source": [
    "Q1. hat is multithreading in python? Why is it used ? Name the module used to handle threads in python."
   ]
  },
  {
   "cell_type": "markdown",
   "id": "8c619dba-fd46-4acc-abff-22a46e361169",
   "metadata": {},
   "source": [
    "Ans_1: Multithreading is an ability of a processor ; which is capable of creating multiple threads concurrently.\n",
    "\"multithreading\" module is used to handle threads in python.\n",
    "\n",
    "It is used for the following reasons:\n",
    "    \n",
    "    1) To take full advantage of CPU power.\n",
    "    2) Parallel Programming\n",
    "    3) For reducing response time\n",
    "    4) To sever multiple clients at the same time.\n",
    "    \n",
    "\"multithreading\" module is used to handle threads in python."
   ]
  },
  {
   "cell_type": "markdown",
   "id": "8457ee3b-3f9c-4d72-85e5-c775ee22863b",
   "metadata": {},
   "source": [
    "Q2. Why threading module used? rwite the use of the following functions:\n",
    "  1) activeCount()\n",
    "  2) currentThread()\n",
    "  3) enumerate()"
   ]
  },
  {
   "cell_type": "markdown",
   "id": "ab101f2c-87b0-400e-b33c-a7cd356b9ee7",
   "metadata": {},
   "source": [
    "Ans_2: Threadin module is used for controlling, managing and creating threads in python.\n",
    "\n",
    "1. activeCount() : This function returns the number of thread currently alive.\n",
    "2. currentThread() : This function will return the current Thread object, \n",
    "                    corresponding to the caller's thread of control.\n",
    "3. enumerate() : This method returns a list of all Thread objects currently alive"
   ]
  },
  {
   "cell_type": "markdown",
   "id": "1202bcda-fe96-4789-b91b-c46323ec545b",
   "metadata": {},
   "source": [
    "Q3. Explain the following functions\n",
    "\n",
    "    1. run()\n",
    "    2. start()\n",
    "    3. join()\n",
    "    4. isAlive()"
   ]
  },
  {
   "cell_type": "markdown",
   "id": "fe4f177c-891e-4418-b20c-8bc77861639f",
   "metadata": {},
   "source": [
    "Ans_3:\n",
    "1. run() : The .run() method executes any target function belonging to a given thread object that \n",
    "            is now active. It normally executes in the background after the .start() method is invoked.\n",
    "\n",
    "2. start() : The .start() method activates a thread object to be run.\n",
    "    \n",
    "3. join() : The .join() method delays a program’s flow of execution until the target thread has \n",
    "            been completely read.\n",
    "    \n",
    "4. isAlive() : The .is_alive() method returns True if the thread is still running else return False."
   ]
  },
  {
   "cell_type": "markdown",
   "id": "ee99ad7a-b918-4bb0-a9e7-75ce740ba75d",
   "metadata": {},
   "source": [
    "Q4. Write a python program to create two threads. Thread one must print the list of squares and thread\n",
    "two must print the list of cubes."
   ]
  },
  {
   "cell_type": "code",
   "execution_count": 15,
   "id": "d9605a1d-a9c5-4e21-b32e-132ef218753e",
   "metadata": {},
   "outputs": [
    {
     "name": "stdout",
     "output_type": "stream",
     "text": [
      "4\n",
      "9\n",
      "16\n",
      "25\n",
      "8\n",
      "27\n",
      "64\n",
      "125\n"
     ]
    }
   ],
   "source": [
    "import threading\n",
    "\n",
    "def square(n):\n",
    "    print(n**2)\n",
    "    \n",
    "def cube(n):\n",
    "    print(n**3)\n",
    " \n",
    "threads = []\n",
    "\n",
    "t_1 = [threading.Thread(target = square, args = (i,)) for i in [2,3,4,5]]\n",
    "t_2 = [threading.Thread(target = cube, args = (i,)) for i in [2,3,4,5]]\n",
    "\n",
    "threads.extend(t_1)\n",
    "threads.extend(t_2)\n",
    "\n",
    "for t in threads:\n",
    "    t.start()\n",
    "    \n",
    "for t in threads:\n",
    "    t.join()"
   ]
  },
  {
   "cell_type": "markdown",
   "id": "a9643bd1-39fa-4bb1-9d26-4ccde77b1dc8",
   "metadata": {},
   "source": [
    "Q5. State advantages and disadvantages of multithreading."
   ]
  },
  {
   "cell_type": "markdown",
   "id": "ac065042-549b-447b-af19-73e2abcc5b35",
   "metadata": {},
   "source": [
    "Ans_5:\n",
    "\n",
    "    Advantages:\n",
    "        \n",
    "    1. Improved throughput.\n",
    "    2. Simultaneous and fully symmetric use of multiple processors for computation and I/O.\n",
    "    3. Superior application responsiveness.\n",
    "    4. Improved server responsiveness.\n",
    "    5. Minimized system resource usage.\n",
    "    6. Program structure simplification.\n",
    "    7. Better communication.\n",
    "    \n",
    "    Disadvantages:\n",
    "        \n",
    "    1. With more threads, the code becomes difficult to debug and maintain.\n",
    "    2. Thread creation puts a load on the system in terms of memory and CPU resources.\n",
    "    3. We need to do exception handling inside the worker method as any unhandled exceptions\n",
    "       can result in the program crashing.\n",
    "    "
   ]
  },
  {
   "cell_type": "markdown",
   "id": "c640dd72-e4e8-4b72-b872-d22f4810ac95",
   "metadata": {},
   "source": [
    "Q6. Explain deadlocks and race conditions."
   ]
  },
  {
   "cell_type": "code",
   "execution_count": null,
   "id": "bc219037-95b2-4f3c-b489-d776cc788cf8",
   "metadata": {},
   "outputs": [],
   "source": [
    "Ans_6 : \n",
    "    deadlocks : Deadlock is a situation where two or more processes are waiting for each other,\n",
    "    directly or indirectly.This usually occurs when two processes are waiting for shared resources \n",
    "    acquired by others.\n",
    "    Example:\n",
    "         thread_1 : \n",
    "                total = num1 + num2\n",
    "         thread_2 :\n",
    "                total = num1\n",
    "        \n",
    "    race conditions : A race condition is a situation where more than one thread is trying to access a \n",
    "    shared piece of data at same time.\n",
    "    "
   ]
  }
 ],
 "metadata": {
  "kernelspec": {
   "display_name": "Python 3 (ipykernel)",
   "language": "python",
   "name": "python3"
  },
  "language_info": {
   "codemirror_mode": {
    "name": "ipython",
    "version": 3
   },
   "file_extension": ".py",
   "mimetype": "text/x-python",
   "name": "python",
   "nbconvert_exporter": "python",
   "pygments_lexer": "ipython3",
   "version": "3.10.8"
  }
 },
 "nbformat": 4,
 "nbformat_minor": 5
}
