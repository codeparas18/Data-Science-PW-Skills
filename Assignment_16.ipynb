{
 "cells": [
  {
   "cell_type": "markdown",
   "id": "064bd58c-c4aa-4aca-b4f2-aaf902f1cde7",
   "metadata": {},
   "source": [
    "Q1. What is Web Scraping? Why is it Used? Give three areas where Web Scraping is used to get data."
   ]
  },
  {
   "cell_type": "markdown",
   "id": "4aed042a-fe59-4e1e-a73c-b99c7b2202f0",
   "metadata": {},
   "source": [
    "Ans_1: Web Scrapping is the process of gathering data from the web. The data can be in the form of images,text,\n",
    "audio or video.Web scraping is used for various purposes, primarily to gather data that can be used for analysis,\n",
    "research, or other applications.\n",
    "\n",
    "Some areas where Web Scraping is used are:\n",
    "\n",
    "    1) Research and Analysis\n",
    "    2) Data Collection\n",
    "    3) Financial and Investment Analysis"
   ]
  },
  {
   "cell_type": "markdown",
   "id": "935b0047-fbb1-4765-baaf-f2db35a818ab",
   "metadata": {},
   "source": [
    "Q2. What are the different methods used for Web Scraping?"
   ]
  },
  {
   "cell_type": "markdown",
   "id": "5f6dddda-674a-4924-88fd-f25ba110097c",
   "metadata": {},
   "source": [
    "Ans_2: Web scraping can be achieved using various methods and tools:\n",
    "    \n",
    "    1) Manual Copy-Pasting\n",
    "    2) Regular Expressions \n",
    "    3) Web Scraping Frameworks"
   ]
  },
  {
   "cell_type": "markdown",
   "id": "3dccb6f4-4112-4b46-8b3e-0c17499f5496",
   "metadata": {},
   "source": [
    "Q3. What is Beautiful Soup? Why is it used?"
   ]
  },
  {
   "cell_type": "markdown",
   "id": "d8cb9585-13ce-4300-93eb-bc54e493371a",
   "metadata": {},
   "source": [
    "Ans_3: Beautiful Soup is a popular Python library used for web scraping and parsing HTML and XML documents.\n",
    "       It provides a convenient and Pythonic way to navigate and manipulate the content of web pages.\n",
    "       It is used for :\n",
    "            \n",
    "            1) HTML and XML Parsing\n",
    "            2) Easy Handling\n",
    "            3) Tag and Attribute Access"
   ]
  },
  {
   "cell_type": "markdown",
   "id": "62f41c9b-1908-4d6a-8ff2-48efc618f72f",
   "metadata": {},
   "source": [
    "Q4. Why is flask used in this Web Scraping project?"
   ]
  },
  {
   "cell_type": "markdown",
   "id": "d74c46a8-39f7-47c7-b12a-10f550750e4e",
   "metadata": {},
   "source": [
    "Ans_4 : Flask is used in a web scraping project, it typically serves as the backend component, providing\n",
    "a way to host and present the scraped data through a web interface."
   ]
  },
  {
   "cell_type": "markdown",
   "id": "2072ad0c-0463-4212-a9f7-04bf912a1913",
   "metadata": {},
   "source": [
    "Q5. Write the names of AWS services used in this project. Also, explain the use of each service."
   ]
  },
  {
   "cell_type": "markdown",
   "id": "d2fd9d73-af26-4fc8-b301-4276ba4e12e4",
   "metadata": {},
   "source": [
    "Ans_5 : \n",
    "\n",
    "    1) Amazon EC2 (Elastic Compute Cloud)\n",
    "    2) Amazon S3 (Simple Storage Service)"
   ]
  }
 ],
 "metadata": {
  "kernelspec": {
   "display_name": "Python 3 (ipykernel)",
   "language": "python",
   "name": "python3"
  },
  "language_info": {
   "codemirror_mode": {
    "name": "ipython",
    "version": 3
   },
   "file_extension": ".py",
   "mimetype": "text/x-python",
   "name": "python",
   "nbconvert_exporter": "python",
   "pygments_lexer": "ipython3",
   "version": "3.10.8"
  }
 },
 "nbformat": 4,
 "nbformat_minor": 5
}
