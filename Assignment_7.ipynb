{
 "cells": [
  {
   "cell_type": "markdown",
   "id": "a33767c6-b54d-4c07-876e-f84a2e07f803",
   "metadata": {},
   "source": [
    "Q1. What is an Exception in python? Write the difference between Exceptions and syntax errors?"
   ]
  },
  {
   "cell_type": "markdown",
   "id": "24530f5d-de52-478c-92be-470d9d8e0eb7",
   "metadata": {},
   "source": [
    "Ans_1: Exceptions are raised when some internal events occur which change the normal flow of the program where as\n",
    "Syntax Errors are once which occurs when something wrong in the program happend.\n",
    "Syntax Error is a type of Exception."
   ]
  },
  {
   "cell_type": "markdown",
   "id": "584bd063-35bb-47c1-81f0-3050f1b117db",
   "metadata": {},
   "source": [
    "Q2. What happens when exception is not handled? "
   ]
  },
  {
   "cell_type": "markdown",
   "id": "c9af1e75-1e91-4be2-ae5b-ca7f5ca14cbd",
   "metadata": {},
   "source": [
    "Ans_2: If exception is not handled then program will stop its execution and throws an error."
   ]
  },
  {
   "cell_type": "markdown",
   "id": "eb04f702-40e6-471e-84d3-9251ace9c096",
   "metadata": {},
   "source": [
    "Q3. Which Python statements are used to catch and handle exceptions? Explain with an example."
   ]
  },
  {
   "cell_type": "markdown",
   "id": "9f6d72bf-0b33-4cea-94ab-ebc23647974e",
   "metadata": {},
   "source": [
    "Ans_3: try , except , else and finally are used to catch and handle exception.\n",
    "For Example:\n",
    "    "
   ]
  },
  {
   "cell_type": "code",
   "execution_count": 5,
   "id": "9bc340bd-100e-4f1b-a303-7948fb0d37c8",
   "metadata": {},
   "outputs": [
    {
     "name": "stdout",
     "output_type": "stream",
     "text": [
      "Error : division by zero\n",
      "Program terminated\n"
     ]
    }
   ],
   "source": [
    "try:\n",
    "    a = 10/0\n",
    "except Exception as e:\n",
    "    print(\"Error :\",e)\n",
    "else:\n",
    "    print (a)\n",
    "finally:\n",
    "    print(\"Program terminated\")"
   ]
  },
  {
   "cell_type": "markdown",
   "id": "c9810299-82c8-4d4e-b4af-575e6b9b2fb5",
   "metadata": {},
   "source": [
    "Q4. What are Custom Exceptions in python? Why do we need Custom Exceptions? Explain with an example."
   ]
  },
  {
   "cell_type": "markdown",
   "id": "fbf2b531-4e16-4dfa-bd8f-1de5de5051dc",
   "metadata": {},
   "source": [
    "Ans_4: Sometimes we may need to create our own custom exceptions that serves our purpose.We can define custom\n",
    "exceptions by creating a new class that is derived from the built-in Exception class. For Example:"
   ]
  },
  {
   "cell_type": "code",
   "execution_count": 14,
   "id": "9acc0710-5fa6-410d-b332-fe6612b6d273",
   "metadata": {},
   "outputs": [
    {
     "name": "stdin",
     "output_type": "stream",
     "text": [
      "Enter the age 14\n"
     ]
    },
    {
     "name": "stdout",
     "output_type": "stream",
     "text": [
      "Error Occured :  Age is Invalid\n"
     ]
    }
   ],
   "source": [
    "class InvalidAge(Exception):\n",
    "    pass\n",
    "\n",
    "try:\n",
    "    num = int(input(\"Enter the age\"))\n",
    "    if num < 18:\n",
    "        raise InvalidAge(\"Age is Invalid\")\n",
    "    else:\n",
    "        print(\"Eligible to Vote\")\n",
    "        \n",
    "except InvalidAge as e:\n",
    "    print(\"Error Occured : \", e)\n",
    "    \n"
   ]
  },
  {
   "cell_type": "markdown",
   "id": "8a99010a-1cc3-44f9-be05-0468ea7fb3a0",
   "metadata": {},
   "source": [
    "Q5. Create custom exception class. Use this class to handle an exception."
   ]
  },
  {
   "cell_type": "markdown",
   "id": "33bb41de-a85e-49cf-bfd9-fb576be937b3",
   "metadata": {},
   "source": [
    "Ans_5: "
   ]
  },
  {
   "cell_type": "code",
   "execution_count": 20,
   "id": "f2fbd4c3-f736-4804-a484-0ec2b6703898",
   "metadata": {},
   "outputs": [],
   "source": [
    "class InvalidAgeError(Exception):\n",
    "    def __init__(self, msg):\n",
    "        self.msg = msg\n",
    "        \n",
    "def validate_Age(age):\n",
    "    if age < 18:\n",
    "        raise InvalidAgeError(\"InvalidAgeError: Not Eligible to Vote\")\n",
    "    else:\n",
    "        print(\"Eligible to Vote\")"
   ]
  },
  {
   "cell_type": "code",
   "execution_count": 21,
   "id": "077e6f3a-9a4c-4893-8bf8-b4cc694039a5",
   "metadata": {},
   "outputs": [
    {
     "name": "stdin",
     "output_type": "stream",
     "text": [
      "Enter the age 13\n"
     ]
    },
    {
     "name": "stdout",
     "output_type": "stream",
     "text": [
      "InvalidAgeError: Not Eligible to Vote\n",
      "Program terminated\n"
     ]
    }
   ],
   "source": [
    "try:\n",
    "    age = int(input(\"Enter the age\"))\n",
    "    validate_Age(age)\n",
    "    \n",
    "except Exception as e:\n",
    "    print(e)\n",
    "    \n",
    "else:\n",
    "    print(\"Let's move Ahead\")\n",
    "    \n",
    "finally:\n",
    "    print(\"Program terminated\")"
   ]
  },
  {
   "cell_type": "code",
   "execution_count": null,
   "id": "836c2e64-addc-4c63-a525-de596fd78fe6",
   "metadata": {},
   "outputs": [],
   "source": []
  }
 ],
 "metadata": {
  "kernelspec": {
   "display_name": "Python 3 (ipykernel)",
   "language": "python",
   "name": "python3"
  },
  "language_info": {
   "codemirror_mode": {
    "name": "ipython",
    "version": 3
   },
   "file_extension": ".py",
   "mimetype": "text/x-python",
   "name": "python",
   "nbconvert_exporter": "python",
   "pygments_lexer": "ipython3",
   "version": "3.10.8"
  }
 },
 "nbformat": 4,
 "nbformat_minor": 5
}
