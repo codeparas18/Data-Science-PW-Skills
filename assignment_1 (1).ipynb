{
 "cells": [
  {
   "cell_type": "markdown",
   "id": "b5a6ca5d-e2e2-4305-b089-477fe5111cb2",
   "metadata": {},
   "source": [
    "## Q1. Create one variable containing following type of data:\n",
    "### (i) string\n",
    "### (ii) list\n",
    "### (iii) float\n",
    "### (iv) tuple"
   ]
  },
  {
   "cell_type": "code",
   "execution_count": 2,
   "id": "dd700908-221b-479c-8982-774d11c29120",
   "metadata": {},
   "outputs": [],
   "source": [
    "str = \"New Learning\"\n",
    "l = [12,34,33.55,True,False,\"name\",3+5j]\n",
    "f = 33.2232\n",
    "t = (1,23,4,True,\"place\")\n"
   ]
  },
  {
   "cell_type": "markdown",
   "id": "c6f4723b-225b-45b4-97ba-e46eac541b7e",
   "metadata": {},
   "source": [
    "## Q2. Given are some following variables containing data:\n",
    "### (i) var1 = ‘ ‘\n",
    "### (ii) var2 = ‘[ DS , ML , Python]’\n",
    "### (iii) var3 = [ ‘DS’ , ’ML’ , ‘Python’ ]\n",
    "### (iv) var4 = 1."
   ]
  },
  {
   "cell_type": "code",
   "execution_count": 11,
   "id": "333769d9-a572-4589-9c04-78f93f00a54b",
   "metadata": {},
   "outputs": [
    {
     "name": "stdout",
     "output_type": "stream",
     "text": [
      "<class 'str'>\n",
      "<class 'str'>\n",
      "<class 'list'>\n",
      "<class 'float'>\n"
     ]
    }
   ],
   "source": [
    "var1 = ''\n",
    "var2 = '[ DS , ML , Python]'\n",
    "var3 = [ 'DS' , 'ML' , 'Python' ]\n",
    "var4 = 1.\n",
    "\n",
    "print(type(var1))\n",
    "print(type(var2))\n",
    "print(type(var3))\n",
    "print(type(var4))"
   ]
  },
  {
   "cell_type": "markdown",
   "id": "b8bdaa94-e33a-414d-b97f-a4cda3c02c7c",
   "metadata": {},
   "source": [
    "### Q3. Explain the use of the following operators using an example:\n",
    "## (i) /\n",
    "## (ii) %\n",
    "## (iii) //\n",
    "## (iv) **"
   ]
  },
  {
   "cell_type": "code",
   "execution_count": 2,
   "id": "a1e744a5-fc13-41fa-9e2c-d5d462b2bd3b",
   "metadata": {},
   "outputs": [
    {
     "name": "stdout",
     "output_type": "stream",
     "text": [
      "1.6666666666666667\n",
      "2\n",
      "1\n",
      "125\n"
     ]
    }
   ],
   "source": [
    "a = 5\n",
    "b = 3\n",
    "# (i) / : divide operator, gives the divided result\n",
    "ans1 = a/b\n",
    "# (ii) % : modulus operator, gives the remainder\n",
    "ans2 = a%b\n",
    "# (iii) // : floor divison operator\n",
    "ans3 = a//b\n",
    "# (iv) ** : power operator, gives the power of a number\n",
    "ans4 = a**b\n",
    "\n",
    "print(ans1)\n",
    "print(ans2)\n",
    "print(ans3)\n",
    "print(ans4)"
   ]
  },
  {
   "cell_type": "markdown",
   "id": "2835701d-25f7-4b5c-a177-777a426c2b8a",
   "metadata": {},
   "source": [
    "## Q4. Create a list of length 10 of your choice containing multiple types of data. Using for loop print the element and its data type."
   ]
  },
  {
   "cell_type": "code",
   "execution_count": 1,
   "id": "8cdae10c-522a-47ac-9c27-444121f0a581",
   "metadata": {},
   "outputs": [
    {
     "name": "stdout",
     "output_type": "stream",
     "text": [
      "2 <class 'int'>\n",
      "3 <class 'int'>\n",
      "True <class 'bool'>\n",
      "False <class 'bool'>\n",
      "List1 <class 'str'>\n",
      "List2 <class 'str'>\n",
      "2.11 <class 'float'>\n",
      "3.45 <class 'float'>\n",
      "34 <class 'int'>\n",
      "55.44 <class 'float'>\n"
     ]
    }
   ],
   "source": [
    "l = [2,3,True,False,\"List1\",\"List2\",2.11,3.45,34,55.44]\n",
    "\n",
    "for i in l:\n",
    "    print(i,type(i))"
   ]
  },
  {
   "cell_type": "markdown",
   "id": "4c69fbfe-9ab7-4921-9d5e-ad93ffe0638b",
   "metadata": {},
   "source": [
    "## Q5. Using a while loop, verify if the number A is purely divisible by number B and if so then how many times it can be divisible."
   ]
  },
  {
   "cell_type": "code",
   "execution_count": 4,
   "id": "28c5a2c6-0d9a-48cd-a835-06a6f547bd4c",
   "metadata": {},
   "outputs": [
    {
     "name": "stdin",
     "output_type": "stream",
     "text": [
      "Enter for a 27\n",
      "Enter for b 3\n"
     ]
    },
    {
     "name": "stdout",
     "output_type": "stream",
     "text": [
      "a divided by b by  3 times\n"
     ]
    }
   ],
   "source": [
    "a = int(input(\"Enter for a\"))\n",
    "b = int(input(\"Enter for b\"))\n",
    "\n",
    "count = 0\n",
    "while a % b == 0:\n",
    "    a = a/b\n",
    "    count+=1\n",
    "    \n",
    "if(count>1):\n",
    "    print(\"a divided by b by \",count,\"times\")\n",
    "else:\n",
    "    print(\"a does not divide b\")\n",
    "    "
   ]
  },
  {
   "cell_type": "markdown",
   "id": "b38942eb-511d-4078-a060-a9da461da193",
   "metadata": {},
   "source": [
    "## Q6. Create a list containing 25 int type data. Using for loop and if-else condition print if the element is divisible by 3 or not."
   ]
  },
  {
   "cell_type": "code",
   "execution_count": 6,
   "id": "5d882a5b-d406-4a65-af90-a74337a972ef",
   "metadata": {},
   "outputs": [
    {
     "name": "stdout",
     "output_type": "stream",
     "text": [
      "3  is divisible by 3\n",
      "9  is divisible by 3\n",
      "18  is divisible by 3\n",
      "27  is divisible by 3\n",
      "1  is not divisible by 3\n",
      "2  is not divisible by 3\n",
      "4  is not divisible by 3\n",
      "6  is divisible by 3\n",
      "7  is not divisible by 3\n",
      "8  is not divisible by 3\n",
      "4  is not divisible by 3\n",
      "3  is divisible by 3\n",
      "232  is not divisible by 3\n",
      "54  is divisible by 3\n",
      "23  is not divisible by 3\n",
      "4  is not divisible by 3\n",
      "6  is divisible by 3\n",
      "677  is not divisible by 3\n",
      "4  is not divisible by 3\n",
      "33  is divisible by 3\n",
      "36  is divisible by 3\n"
     ]
    }
   ],
   "source": [
    "l = [3,9,18,27,1,2,4,6,7,8,4,3,232,54,23,4,6,677,4,33,36]\n",
    "\n",
    "for i in l:\n",
    "    if i%3 == 0:\n",
    "        print(i,\" is divisible by 3\")\n",
    "    else:\n",
    "        print(i,\" is not divisible by 3\")\n",
    "              "
   ]
  },
  {
   "cell_type": "markdown",
   "id": "56511c46-ed1b-487a-a9a2-2f9d7684b5ac",
   "metadata": {},
   "source": [
    "Mutable: A mutuable object is one whose value does not changes once its created \n",
    "Immutable: An immutable object is one whose value can changes"
   ]
  },
  {
   "cell_type": "markdown",
   "id": "c84b8d5e-c8b4-4bc9-965f-f64af583005b",
   "metadata": {},
   "source": [
    "## Q7. What do you understand about mutable and immutable data types? Give examples for both showing this property."
   ]
  },
  {
   "cell_type": "code",
   "execution_count": 8,
   "id": "61950f57-ca69-4163-b2af-56087637212b",
   "metadata": {},
   "outputs": [
    {
     "ename": "TypeError",
     "evalue": "'str' object does not support item assignment",
     "output_type": "error",
     "traceback": [
      "\u001b[0;31m---------------------------------------------------------------------------\u001b[0m",
      "\u001b[0;31mTypeError\u001b[0m                                 Traceback (most recent call last)",
      "Cell \u001b[0;32mIn[8], line 2\u001b[0m\n\u001b[1;32m      1\u001b[0m mutable \u001b[38;5;241m=\u001b[39m \u001b[38;5;124m\"\u001b[39m\u001b[38;5;124mPArAS\u001b[39m\u001b[38;5;124m\"\u001b[39m\n\u001b[0;32m----> 2\u001b[0m \u001b[43mmutable\u001b[49m\u001b[43m[\u001b[49m\u001b[38;5;241;43m2\u001b[39;49m\u001b[43m]\u001b[49m \u001b[38;5;241m=\u001b[39m \u001b[38;5;124m\"\u001b[39m\u001b[38;5;124mR\u001b[39m\u001b[38;5;124m\"\u001b[39m\n\u001b[1;32m      3\u001b[0m mutable\n",
      "\u001b[0;31mTypeError\u001b[0m: 'str' object does not support item assignment"
     ]
    }
   ],
   "source": [
    "mutable = ['P','A','r','A'\n",
    "mutable[2] = \"R\"\n",
    "mutable"
   ]
  },
  {
   "cell_type": "code",
   "execution_count": null,
   "id": "836a6e73-0eb0-46b9-ad93-edf813007205",
   "metadata": {},
   "outputs": [],
   "source": []
  }
 ],
 "metadata": {
  "kernelspec": {
   "display_name": "Python 3 (ipykernel)",
   "language": "python",
   "name": "python3"
  },
  "language_info": {
   "codemirror_mode": {
    "name": "ipython",
    "version": 3
   },
   "file_extension": ".py",
   "mimetype": "text/x-python",
   "name": "python",
   "nbconvert_exporter": "python",
   "pygments_lexer": "ipython3",
   "version": "3.10.8"
  }
 },
 "nbformat": 4,
 "nbformat_minor": 5
}
