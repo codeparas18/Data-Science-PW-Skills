{
 "cells": [
  {
   "cell_type": "markdown",
   "id": "f6489e71-8ec3-47cb-9360-33fbc7c19bc7",
   "metadata": {},
   "source": [
    "Q1. Explain GET and POST methods."
   ]
  },
  {
   "cell_type": "markdown",
   "id": "63d2b9ed-b461-4ffc-a58a-8e0de03edebd",
   "metadata": {},
   "source": [
    "Ans_1 : The HTTP GET method is used to request data from a specified resource. It is one of the standard \n",
    "methods used for retrieving information from a server. When a client (usually a web browser) sends a GET\n",
    "request to a server, the server responds by providing the requested data in the response body."
   ]
  },
  {
   "cell_type": "markdown",
   "id": "3754368e-cbb0-453c-b677-545a32963fa6",
   "metadata": {},
   "source": [
    "Q2. Why is request used in Flask?"
   ]
  },
  {
   "cell_type": "markdown",
   "id": "c4b2b818-56b8-44bf-b308-e583fe2ee0b8",
   "metadata": {},
   "source": [
    "Ans_2 : request is method of Flask Library used to retrieve data from the client side.It provides a way for\n",
    "        your Flask application to interact with the data sent by the client in the HTTP request. "
   ]
  },
  {
   "cell_type": "markdown",
   "id": "ea960921-4fb4-457f-9f40-005378381724",
   "metadata": {},
   "source": [
    "Q3. Why is redirect() used in Flask?"
   ]
  },
  {
   "cell_type": "markdown",
   "id": "28ce091d-d272-4a75-bda0-a3926ee15fe6",
   "metadata": {},
   "source": [
    "Ans_3 : In Flask, the redirect() function is used to redirect the user's browser to a different URL. \n",
    "It is a way to respond to a client request by indicating that the requested resource can be found at \n",
    "a different location."
   ]
  },
  {
   "cell_type": "markdown",
   "id": "9ca59646-be35-4bc7-8d23-25b2e9a504d4",
   "metadata": {},
   "source": [
    "Q4. What are templates in Flask? Why is the render_template() function used?"
   ]
  },
  {
   "cell_type": "markdown",
   "id": "e7b80a95-f9b2-422c-906b-31ba6efcb284",
   "metadata": {},
   "source": [
    "Ans_4 : Templates in Flask refer to files that contain the HTML structure of web pages, along with placeholders\n",
    "for dynamic content. Instead of generating HTML directly in your Python code, you use templates to separate the\n",
    "presentation layer (HTML) from the logic and data processing layer (Python code) of your web application.\n",
    "\n",
    "The render_template() function in Flask is used to render HTML templates and return the rendered content as\n",
    "a response to the client's browser. It takes the name of the template file as its first argument and optional\n",
    "keyword arguments that represent the data you want to pass to the template.\n"
   ]
  },
  {
   "cell_type": "markdown",
   "id": "68a37cbf-b431-493d-924b-0fde49a78369",
   "metadata": {},
   "source": [
    "Q5. Create a simple API. Use Postman to test it. Attach the screenshot of the output in the Jupyter Notebook."
   ]
  },
  {
   "cell_type": "markdown",
   "id": "bba45840-b67c-49a0-98ee-ec528a1c7b19",
   "metadata": {},
   "source": [
    "Ans_5 :\n",
    "    "
   ]
  },
  {
   "cell_type": "code",
   "execution_count": 2,
   "id": "51a329c8-ee77-4c92-a7d5-aab54c216577",
   "metadata": {},
   "outputs": [
    {
     "data": {
      "text/html": [
       "<img src=\"output_3.png\" width=\"300\" height=\"300\"/>"
      ],
      "text/plain": [
       "<IPython.core.display.Image object>"
      ]
     },
     "execution_count": 2,
     "metadata": {},
     "output_type": "execute_result"
    }
   ],
   "source": [
    "from IPython.display import Image\n",
    "Image(url=\"output_3.png\",width=300,height=300)"
   ]
  },
  {
   "cell_type": "code",
   "execution_count": null,
   "id": "4668b1c3-969b-4892-b332-6a7e77958759",
   "metadata": {},
   "outputs": [],
   "source": []
  }
 ],
 "metadata": {
  "kernelspec": {
   "display_name": "Python 3 (ipykernel)",
   "language": "python",
   "name": "python3"
  },
  "language_info": {
   "codemirror_mode": {
    "name": "ipython",
    "version": 3
   },
   "file_extension": ".py",
   "mimetype": "text/x-python",
   "name": "python",
   "nbconvert_exporter": "python",
   "pygments_lexer": "ipython3",
   "version": "3.10.8"
  }
 },
 "nbformat": 4,
 "nbformat_minor": 5
}
