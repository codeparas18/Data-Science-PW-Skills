{
 "cells": [
  {
   "cell_type": "markdown",
   "id": "c744d325-6da6-4386-9792-b9c5bea6ba5f",
   "metadata": {},
   "source": [
    "Q1, Create a vehicle class with an init method having instance variables as name_of_vehicle, max_speed\n",
    "and average_of_vehicle."
   ]
  },
  {
   "cell_type": "code",
   "execution_count": 12,
   "id": "2214eeb2-b2c8-4fe6-a704-22f3ba102634",
   "metadata": {},
   "outputs": [],
   "source": [
    "class vehicle:\n",
    "    def __init__(self,name_of_vehicle,max_speed,average_of_vehicle):\n",
    "        self.name_of_vehicle = name_of_vehicle\n",
    "        self.max_speed = max_speed\n",
    "        self.average_of_vehicle = average_of_vehicle\n",
    "        "
   ]
  },
  {
   "cell_type": "markdown",
   "id": "7c308561-c96c-4100-a11d-462a41eb8e14",
   "metadata": {},
   "source": [
    "Q2. Create a child class car from the vehicle class created in Que 1, which will inherit the vehicle class.\n",
    "Create a method named seating_capacity which takes capacity as an argument and returns the name of\n",
    "the vehicle and its seating capacity."
   ]
  },
  {
   "cell_type": "code",
   "execution_count": 37,
   "id": "9e57d91d-2fe5-4b45-8134-e8367f75c683",
   "metadata": {},
   "outputs": [],
   "source": [
    "class Car(vehicle):\n",
    "    def seating_capacity(self,capacity):\n",
    "        self.capacity = capacity\n",
    "        return (self.name_of_vehicle, self.capacity)"
   ]
  },
  {
   "cell_type": "markdown",
   "id": "ec9fd81a-a6c1-419c-9b2a-6ff40e72e659",
   "metadata": {},
   "source": [
    "Q3. What is multiple inheritance? Write a python code to demonstrate multiple inheritance."
   ]
  },
  {
   "cell_type": "markdown",
   "id": "ef0b6a8f-03c2-4284-a883-13471d3de15a",
   "metadata": {},
   "source": [
    "Ans_3: When a class inherit the features from multiple classes then the mechanism is known as multiple inheritance."
   ]
  },
  {
   "cell_type": "code",
   "execution_count": 40,
   "id": "13241caf-4750-48be-8333-0e8a6ee3efd0",
   "metadata": {},
   "outputs": [],
   "source": [
    "class class1:\n",
    "    def method1(self):\n",
    "        print(\"Class 1 method\")\n",
    "    \n",
    "class class2:\n",
    "    def method2(self):\n",
    "        print(\"Class 2 method\")\n",
    "        \n",
    "class class3(class1,class2):\n",
    "    pass"
   ]
  },
  {
   "cell_type": "code",
   "execution_count": 43,
   "id": "53b61996-0103-4c5c-bbcc-c0ae410bd2ee",
   "metadata": {},
   "outputs": [
    {
     "name": "stdout",
     "output_type": "stream",
     "text": [
      "Class 1 method\n",
      "Class 2 method\n"
     ]
    }
   ],
   "source": [
    "obj = class3()\n",
    "obj.method1()\n",
    "obj.method2()"
   ]
  },
  {
   "cell_type": "markdown",
   "id": "ed8f6aac-8c68-4ab3-869d-2f80f88740a5",
   "metadata": {},
   "source": [
    "Q4. What are getter and setter in python? Create a class and create a getter and a setter method in this\n",
    "class."
   ]
  },
  {
   "cell_type": "markdown",
   "id": "f8743194-28ab-406f-a068-9033bfcabf09",
   "metadata": {},
   "source": [
    "Ans_4 : Getter: A method that allows you to access an attribute in a given class;\n",
    "        Setter: A method that allows you to set or mutate the value of an attribute in a class"
   ]
  },
  {
   "cell_type": "code",
   "execution_count": 95,
   "id": "51a3991a-7eb7-43f6-9d7d-0a484de68aaa",
   "metadata": {},
   "outputs": [],
   "source": [
    "class Person:\n",
    "    def __init__(self, name, age):\n",
    "        self.__name = name\n",
    "        self.age = age\n",
    "    # Getter for name attribute\n",
    "    @property\n",
    "    def name(self):\n",
    "        return self.__name\n",
    "\n",
    "    # Setter for name attribute\n",
    "    @name.setter\n",
    "    def name(self, new_name):\n",
    "        self.__name = new_name"
   ]
  },
  {
   "cell_type": "code",
   "execution_count": 96,
   "id": "04f2ab96-88f1-45c8-a226-9e1ae6b6caa1",
   "metadata": {},
   "outputs": [],
   "source": [
    "person = Person(\"Paras\",22)"
   ]
  },
  {
   "cell_type": "code",
   "execution_count": 97,
   "id": "0f41a39e-b26c-4072-9a41-24b5135bff21",
   "metadata": {},
   "outputs": [],
   "source": [
    "person.name = \"keshav\""
   ]
  },
  {
   "cell_type": "code",
   "execution_count": 98,
   "id": "c35735ac-0233-4601-ae80-044c7f692f1b",
   "metadata": {},
   "outputs": [
    {
     "data": {
      "text/plain": [
       "'keshav'"
      ]
     },
     "execution_count": 98,
     "metadata": {},
     "output_type": "execute_result"
    }
   ],
   "source": [
    "person.name\n"
   ]
  },
  {
   "cell_type": "markdown",
   "id": "b6551bd6-0d99-4dfc-8e93-69acca70cea9",
   "metadata": {},
   "source": [
    "Q5.What is method overriding in python? Write a python code to demonstrate method overriding."
   ]
  },
  {
   "cell_type": "markdown",
   "id": "994dd476-40bf-4e90-85d8-4f09e9fe208e",
   "metadata": {},
   "source": [
    "Ans_5: Method overriding in Python is a concept where a subclass provides a specific implementation of a\n",
    "method that is already defined in its superclass. When a method is overridden, the subclass's version of the\n",
    "method takes precedence over the superclass's version."
   ]
  },
  {
   "cell_type": "code",
   "execution_count": 99,
   "id": "8fbe0811-8134-462b-a53f-075b4d2915d3",
   "metadata": {},
   "outputs": [
    {
     "ename": "SyntaxError",
     "evalue": "invalid syntax (2847440835.py, line 1)",
     "output_type": "error",
     "traceback": [
      "\u001b[0;36m  Cell \u001b[0;32mIn[99], line 1\u001b[0;36m\u001b[0m\n\u001b[0;31m    def Animal:\u001b[0m\n\u001b[0m              ^\u001b[0m\n\u001b[0;31mSyntaxError\u001b[0m\u001b[0;31m:\u001b[0m invalid syntax\n"
     ]
    }
   ],
   "source": [
    "class Animal:\n",
    "    def make_sound(self):\n",
    "        print(\"Generic Animal make sound\")\n",
    "        \n",
    "class Dog(Animal):\n",
    "    def make_sound(self):\n",
    "        print(\"Dog barks\")\n",
    "        \n",
    "animal = Anima\n",
    "        "
   ]
  },
  {
   "cell_type": "code",
   "execution_count": null,
   "id": "fd7c9780-5a64-435d-a433-e43893b3177f",
   "metadata": {},
   "outputs": [],
   "source": []
  }
 ],
 "metadata": {
  "kernelspec": {
   "display_name": "Python 3 (ipykernel)",
   "language": "python",
   "name": "python3"
  },
  "language_info": {
   "codemirror_mode": {
    "name": "ipython",
    "version": 3
   },
   "file_extension": ".py",
   "mimetype": "text/x-python",
   "name": "python",
   "nbconvert_exporter": "python",
   "pygments_lexer": "ipython3",
   "version": "3.10.8"
  }
 },
 "nbformat": 4,
 "nbformat_minor": 5
}
