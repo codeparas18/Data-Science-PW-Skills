{
 "cells": [
  {
   "cell_type": "markdown",
   "id": "efe3123c-5e39-4df6-9eb4-6d8555d12b80",
   "metadata": {},
   "source": [
    "Q1. What is a database? Differentiate between SQL and NoSQL databases."
   ]
  },
  {
   "cell_type": "markdown",
   "id": "5c619690-7f7e-430c-8f8e-b5379a7af4b4",
   "metadata": {},
   "source": [
    "Ans_1: A database is a collection of data that is organized and stored in a way that allows for efficient   retrieval, manipulation, and management of information. \n",
    "\n",
    "There are generally two types of databases.\n",
    "\n",
    "1) SQL : SQL stands for Structured Query Language. In SQL data are stored in a tabular manner.\n",
    "\n",
    "2) NoSQL : NoSQL stands for Not Only Structured Query Language.In NoSQL data are stored in not only tabular form \n",
    "    but also in many other forms.\n",
    "    \n",
    "    "
   ]
  },
  {
   "cell_type": "markdown",
   "id": "1703d969-e42d-403c-b044-d81494e0d583",
   "metadata": {},
   "source": [
    "Q2. What is DDL? Explain why CREATE, DROP, ALTER, and TRUNCATE are used."
   ]
  },
  {
   "cell_type": "markdown",
   "id": "b3009dfa-6e69-4ca3-8689-ba1b58fcfcc4",
   "metadata": {},
   "source": [
    "Ans_2 : DDL stands for Data Definition Language used to define and manage the structure of a database and \n",
    "        its objects, such as tables, indexes, and constraints. \n",
    "    \n",
    "1) CREATE : It is a keyword used to Create a new database.\n",
    "2) DROP : It is a keyword used to delete a row in SQL database.\n",
    "3) ALTER : It is a keyword used to modify the structure of exsisting database.\n",
    "4) TRUNCATE : It is a keyword used to remove all rows from a table, effectively resetting its data content.\n"
   ]
  },
  {
   "cell_type": "markdown",
   "id": "e17b8c84-00e6-47a1-8f97-15d7aa203c21",
   "metadata": {},
   "source": [
    "Q3. What is DML? Explain INSERT, UPDATE, and DELETE with an example."
   ]
  },
  {
   "cell_type": "markdown",
   "id": "07c3676b-f0ee-45d3-91c4-e56968af8484",
   "metadata": {},
   "source": [
    "Ans_3 : DML stands for Data Manipulation Language used to manipulate and work with data stored in a database.\n",
    "        DML statements are used to retrieve, insert, update, and delete data from database tables.\n",
    "    \n",
    "    1) INSERT : It is a statement used to add a new row in a table.\n",
    "    2) UPDATE : It is a statement used to used to modify existing data in a table.\n",
    "    3) DELETE : It is a statement used to delete row from the table."
   ]
  },
  {
   "cell_type": "markdown",
   "id": "c9e028e5-a5e2-47dd-921c-a1b27244f271",
   "metadata": {},
   "source": [
    "Q4. What is DQL? Explain SELECT with an example."
   ]
  },
  {
   "cell_type": "markdown",
   "id": "88cf8060-2c59-4865-b312-9296bc25fe3b",
   "metadata": {},
   "source": [
    "Ans_4 : DQL stands for Data Query Language. It is a subset of SQL. It is used to used for querying\n",
    "        and retrieving data from a database\n",
    "    \n",
    "    1) SELECT : It is used to retrieve data from one or more database tables based on specified criteria."
   ]
  },
  {
   "cell_type": "markdown",
   "id": "e0707eca-7b9e-47a1-af69-13ff6846f4ba",
   "metadata": {},
   "source": [
    "Q5. Explain Primary Key and Foreign Key."
   ]
  },
  {
   "cell_type": "markdown",
   "id": "b6a77384-ec8d-44ed-b45e-a685c1a2ce8c",
   "metadata": {},
   "source": [
    "Ans_5 : \n",
    "Primary Key : It is a column and set of columns which uniqly identifies each row in a table.\n",
    "\n",
    "Foreign Key : A foreign key is a column or a set of columns in a table that establishes a link between the data in two related tables"
   ]
  },
  {
   "cell_type": "markdown",
   "id": "c8b6a85d-f1dd-4126-8f7c-0aa34f195118",
   "metadata": {},
   "source": [
    "Q6. Write a python code to connect MySQL to python. Explain the cursor() and execute() method."
   ]
  },
  {
   "cell_type": "raw",
   "id": "df1c2de3-5adc-401c-8c77-52063dd68413",
   "metadata": {},
   "source": [
    "Ans_6 :\n",
    "\n",
    "import mysql.connector\n",
    "mydb = mysql.connector.connect(\n",
    "    host =\"localhost\"\n",
    "    user = \"abc\"\n",
    "    password = \"password\"\n",
    ")\n",
    "print(mydb)\n",
    "mycursor = mydb.cursor()\n",
    "mycursor.execute(\"Show Database\")\n",
    "\n",
    "mysql.connector.connect() : This function is used to establish a connection to database, you just need to provide\n",
    "host, username and password.\n",
    "\n",
    "cursor() : After connecting to the database, you create a cursor object using the .cursor() method. The cursor is used to execute SQL queries and interact with the database.\n",
    "\n",
    "execute() : This method of the cursor is used to execute SQL queries. You pass the SQL query string as an argument to this method. It prepares the query and sends it to the MySQL server for execution."
   ]
  },
  {
   "cell_type": "markdown",
   "id": "7b8ffd96-bd1d-4b3b-be27-7c7971f84c68",
   "metadata": {},
   "source": [
    "Q7. Give the order of execution of SQL clauses in an SQL query."
   ]
  },
  {
   "cell_type": "markdown",
   "id": "ee8b9185-fb6f-43da-aa1d-c9c97707fbc3",
   "metadata": {},
   "source": [
    "Ans_7: \n",
    "\n",
    "    1) FROM\n",
    "    2) JOIN\n",
    "    3) WHERE\n",
    "    4) GROUP BY\n",
    "    5) HAVING \n",
    "    6) SELECT\n",
    "    7) DISTINCT\n",
    "    8) ORDER BY\n",
    "    9) LIMIT/OFFSET"
   ]
  },
  {
   "cell_type": "code",
   "execution_count": null,
   "id": "696f4ecd-fe4a-4b75-a5f8-2525303ac2b3",
   "metadata": {},
   "outputs": [],
   "source": []
  }
 ],
 "metadata": {
  "kernelspec": {
   "display_name": "Python 3 (ipykernel)",
   "language": "python",
   "name": "python3"
  },
  "language_info": {
   "codemirror_mode": {
    "name": "ipython",
    "version": 3
   },
   "file_extension": ".py",
   "mimetype": "text/x-python",
   "name": "python",
   "nbconvert_exporter": "python",
   "pygments_lexer": "ipython3",
   "version": "3.10.8"
  }
 },
 "nbformat": 4,
 "nbformat_minor": 5
}
