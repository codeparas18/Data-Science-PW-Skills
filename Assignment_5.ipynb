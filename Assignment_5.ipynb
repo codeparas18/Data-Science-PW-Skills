{
 "cells": [
  {
   "cell_type": "markdown",
   "id": "7bc6377e-c5a5-427e-815f-3955ae73bb69",
   "metadata": {},
   "source": [
    "Q1. Explain Class and Object with respect to Object-Oriented Programming."
   ]
  },
  {
   "cell_type": "markdown",
   "id": "a1493203-99b1-4185-a13d-7c6c6f3da13e",
   "metadata": {},
   "source": [
    "Ans_1: Class is a blueprint of an object.It contains all the basic information of an object, whereas object is \n",
    "an instance of a class."
   ]
  },
  {
   "cell_type": "markdown",
   "id": "40b4395b-6e8b-4471-8458-b4472ccf19ff",
   "metadata": {},
   "source": [
    "Q2. Name the four pillars of OOPs."
   ]
  },
  {
   "cell_type": "markdown",
   "id": "fe65e57d-c4a1-44f3-8f3e-b225d0a96692",
   "metadata": {},
   "source": [
    "Ans_2: The four pillars of OOPs are:\n",
    "        1) Polyorphism\n",
    "        2) Abstraction\n",
    "        3) Encapsulation\n",
    "        4) Inheritance"
   ]
  },
  {
   "cell_type": "markdown",
   "id": "13689f23-8139-4691-9b47-5b7b5ef0665a",
   "metadata": {},
   "source": [
    "Q3. Explain why the __init__() function is used. Give a suitable example."
   ]
  },
  {
   "cell_type": "markdown",
   "id": "f7caff77-9892-4133-bd61-78025a1e88cd",
   "metadata": {},
   "source": [
    "Ans_3: init() is a constructor which gets automatically called whenever the object is assigned a function. \n",
    "init() is used for assignment of a value of a function."
   ]
  },
  {
   "cell_type": "markdown",
   "id": "09092e7f-c514-4a86-bbc4-57f481af1aaa",
   "metadata": {},
   "source": [
    "Q4. Why self is used in OOPs?"
   ]
  },
  {
   "cell_type": "markdown",
   "id": "41f3b1bf-7d0f-47e3-b370-8d770a24fcb0",
   "metadata": {},
   "source": [
    "Ans_4: self represents the instance of the class. By using the “self”  we can access the attributes\n",
    "and methods of the class in python. It binds the attributes with the given argument."
   ]
  },
  {
   "cell_type": "markdown",
   "id": "6d1c235b-f0c2-4c3e-8e1b-90cca53dceef",
   "metadata": {},
   "source": [
    "Q5. What is inheritance? Give an example for each type of inheritance."
   ]
  },
  {
   "cell_type": "code",
   "execution_count": null,
   "id": "fbe542b4-47f2-4d5e-a5b2-46e11e59c5c3",
   "metadata": {},
   "outputs": [],
   "source": [
    "Ans_5 : Inheritance is a feature of object oriented programming.It is a mechanism in which a class inherit the \n",
    "feature of another class. There are three types of inheritance:\n",
    "    1. Multiple Inheritance\n",
    "    2. Multi-level Inheritance\n",
    "    3. "
   ]
  }
 ],
 "metadata": {
  "kernelspec": {
   "display_name": "Python 3 (ipykernel)",
   "language": "python",
   "name": "python3"
  },
  "language_info": {
   "codemirror_mode": {
    "name": "ipython",
    "version": 3
   },
   "file_extension": ".py",
   "mimetype": "text/x-python",
   "name": "python",
   "nbconvert_exporter": "python",
   "pygments_lexer": "ipython3",
   "version": "3.10.8"
  }
 },
 "nbformat": 4,
 "nbformat_minor": 5
}
