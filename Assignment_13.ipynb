{
 "cells": [
  {
   "cell_type": "markdown",
   "id": "d3a632b1-858b-404c-a120-1933468e0cbc",
   "metadata": {},
   "source": [
    "Q1. What is an API? Give an example, where an API is used in real life."
   ]
  },
  {
   "cell_type": "markdown",
   "id": "91a41089-f72e-4256-8e17-dad0f9e77ff6",
   "metadata": {},
   "source": [
    "Ans_1 : API stands for \"Application Programming Interface\". It is a set of rules or protocols that allows \n",
    "different software application to interact with each other.\n",
    "\n",
    "Example: Using of Paytm. "
   ]
  },
  {
   "cell_type": "markdown",
   "id": "0c667397-6fae-49a7-82a5-966b2aea986f",
   "metadata": {},
   "source": [
    "Q2. Give advantages and disadvantages of using API."
   ]
  },
  {
   "cell_type": "markdown",
   "id": "e31527d2-f034-4a1c-99d7-fb55f85761c4",
   "metadata": {},
   "source": [
    "Ans_2 : \n",
    "    \n",
    "    Advantages: \n",
    "        1) Modularity and Reusability\n",
    "        2) Interoperability\n",
    "        3) Scalability\n",
    "        \n",
    "    Disadvantages: \n",
    "        1) Dependancy\n",
    "        2) Security Concern\n",
    "        3) Complexity"
   ]
  },
  {
   "cell_type": "markdown",
   "id": "549c8762-fe5b-499d-b39c-39ec69daceb0",
   "metadata": {},
   "source": [
    "Q3. What is a Web API?"
   ]
  },
  {
   "cell_type": "markdown",
   "id": "b40d967c-86f8-4a14-8a13-64ca9dc6eb47",
   "metadata": {},
   "source": [
    "Ans_3 : WebAPI  is a type of API specifically designed to be accessed over the internet using the HTTP protocol.\n",
    "        It provides a way for different software applications to communicate and interact with each other through \n",
    "        standardized requests and responses.\n",
    "        "
   ]
  },
  {
   "cell_type": "markdown",
   "id": "b04800a1-fb7b-4d64-ac62-ae0414fa906b",
   "metadata": {},
   "source": [
    "Q4. Explain REST and SOAP Architecture. Mention shortcomings of SOAP."
   ]
  },
  {
   "cell_type": "code",
   "execution_count": null,
   "id": "a77ac5fa-8df6-4d0a-962a-a3822f44dad6",
   "metadata": {},
   "outputs": [],
   "source": [
    "Ans_4 : \n",
    "    REST: REST stands for Representational State Transfer. It is a set of principle which uses http protocol\n",
    "    for creating web services.\n",
    "    The key components of REST architecture include:\n",
    "        1) client-server architecture\n",
    "        2) stateless method\n",
    "        3) cacheability\n",
    "        4) uniform Interface\n",
    "    \n",
    "    SOAP : SOAP stands for Simple Object Access Protocol  for exchanging structured information in the\n",
    "    implementation of web services. It provides a standardized way to define and call functions and procedures\n",
    "    remotely over a network.\n",
    "    SOAP messages are XML-based and include details about the request, response, parameters, and data types.\n",
    "    The key components of SOAP architecture include:\n",
    "        1) XML based messages\n",
    "        2) WSDL\n",
    "        3) Complex Operation\n",
    "        4) Transport Independence\n",
    "        \n",
    "    S"
   ]
  }
 ],
 "metadata": {
  "kernelspec": {
   "display_name": "Python 3 (ipykernel)",
   "language": "python",
   "name": "python3"
  },
  "language_info": {
   "codemirror_mode": {
    "name": "ipython",
    "version": 3
   },
   "file_extension": ".py",
   "mimetype": "text/x-python",
   "name": "python",
   "nbconvert_exporter": "python",
   "pygments_lexer": "ipython3",
   "version": "3.10.8"
  }
 },
 "nbformat": 4,
 "nbformat_minor": 5
}
