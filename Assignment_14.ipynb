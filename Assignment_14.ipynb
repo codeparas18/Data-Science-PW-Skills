{
 "cells": [
  {
   "cell_type": "markdown",
   "id": "8af997bb-b68d-46df-b512-983eb51bb98b",
   "metadata": {},
   "source": [
    "Q1. What is Flask Framework? What are the advantages of Flask Framework?"
   ]
  },
  {
   "cell_type": "markdown",
   "id": "2b04d2dc-7559-4240-a903-7f26bf668d2c",
   "metadata": {},
   "source": [
    "Ans_1 : Flask is a framework or a pythonic library used to create web application using Python programming\n",
    "language.IT is simple while providing the tools necessary for creating web applications and APIs.\n",
    "\n",
    "Advantages of Flask framework:\n",
    "\n",
    "    1) Simplicity\n",
    "    2) Flexible\n",
    "    3) Minimilastic\n",
    "    4) Extensibility\n",
    "    5) Built-in Development Server"
   ]
  },
  {
   "cell_type": "markdown",
   "id": "9210bb75-b4b6-4bab-bb72-89e3522401e5",
   "metadata": {},
   "source": [
    "Q2. Create a simple Flask application to display ‘Hello World!!’. Attach the screenshot of the output in\n",
    "Jupyter Notebook."
   ]
  },
  {
   "cell_type": "raw",
   "id": "983ab67d-85c8-4226-9023-0aed9fe8a7c4",
   "metadata": {},
   "source": [
    "Ans_2: \n",
    "    \n",
    "from flask import Flask\n",
    "app = Flask(__name__)\n",
    "\n",
    "@app.route(\"/\")\n",
    "def hello_world():\n",
    "    return \"Hello World\"\n",
    "\n",
    "if __name__ == \"__main__\":\n",
    "    app.run(host = \"0.0.0.0\")\n",
    "    "
   ]
  },
  {
   "cell_type": "code",
   "execution_count": 2,
   "id": "027770db-ab62-4762-9ec1-e9459ff9cdc2",
   "metadata": {},
   "outputs": [
    {
     "data": {
      "text/html": [
       "<img src=\"output.png\" width=\"300\" height=\"300\"/>"
      ],
      "text/plain": [
       "<IPython.core.display.Image object>"
      ]
     },
     "execution_count": 2,
     "metadata": {},
     "output_type": "execute_result"
    }
   ],
   "source": [
    "from IPython.display import Image\n",
    "Image(url=\"output.png\", width=300, height=300)"
   ]
  },
  {
   "cell_type": "markdown",
   "id": "b48b7d67-11cc-443d-b887-73b18889f26d",
   "metadata": {},
   "source": [
    "Q3. What is App routing in Flask? "
   ]
  },
  {
   "cell_type": "markdown",
   "id": "58f8bf3a-2caf-4b71-a78e-6c6ec4ea326d",
   "metadata": {},
   "source": [
    "Ans_3 : App routing in Flask refers to the process of mapping URL paths to specific functions or views \n",
    "in your Flask application. In other words, it involves defining how different URLs should be handled by the\n",
    "application and what actions should be taken when those URLs are accessed by users. This is achieved using \n",
    "the @app.route decorator in Flask."
   ]
  },
  {
   "cell_type": "markdown",
   "id": "3b5e22c5-f1d2-48b9-adfb-46612062edc7",
   "metadata": {},
   "source": [
    "Q4. Create a “/welcome” route to display the welcome message “Welcome to ABC Corporation” and a “/”\n",
    "route to show the following details:\n",
    "Company Name: ABC Corporation\n",
    "Location: India\n",
    "Contact Detail: 999-999-9999"
   ]
  },
  {
   "cell_type": "markdown",
   "id": "14ba4f6c-8dc7-4cdf-801c-93417a851b9a",
   "metadata": {},
   "source": [
    "Ans_4 :"
   ]
  },
  {
   "cell_type": "raw",
   "id": "969e79d8-a4e9-4d0b-9838-6b03146f8a1d",
   "metadata": {},
   "source": [
    "from flask import Flask\n",
    "app = Flask(__name__)\n",
    "\n",
    "@app.route(\"/\")\n",
    "def display():\n",
    "    return ''' Company Name : ABC Corporation\n",
    "             Location : INDIA\n",
    "              Contact Details : 999-999-9999 '''\n",
    "\n",
    "@app.route(\"/welcome\")\n",
    "def welcome():\n",
    "    return \" Welcome to ABC Corporation \"\n",
    "\n",
    "if __name__ == \"__main__\":\n",
    "    app.run(host = \"0.0.0.0\")"
   ]
  },
  {
   "cell_type": "code",
   "execution_count": 4,
   "id": "eb05dad2-ea75-4058-877c-add6fc610792",
   "metadata": {},
   "outputs": [
    {
     "data": {
      "text/html": [
       "<img src=\"output2.png\" width=\"300\" height=\"300\"/>"
      ],
      "text/plain": [
       "<IPython.core.display.Image object>"
      ]
     },
     "execution_count": 4,
     "metadata": {},
     "output_type": "execute_result"
    }
   ],
   "source": [
    "from IPython.display import Image\n",
    "Image(url=\"output2.png\",width=300,height=300)"
   ]
  },
  {
   "cell_type": "markdown",
   "id": "3076a49a-1e7a-4d4b-8d0a-cb28d9c63e3f",
   "metadata": {},
   "source": [
    "Q5. What function is used in Flask for URL Building? Write a Python code to demonstrate the working of the\n",
    "url_for() function."
   ]
  },
  {
   "cell_type": "markdown",
   "id": "1de76ae1-3b61-48f8-b18c-106ea0006946",
   "metadata": {},
   "source": [
    "Ans_5 : In Flask, the url_for() function is used for URL building. It generates URLs for app routes\n",
    "based on their associated view functions and any dynamic parameters they might have. "
   ]
  },
  {
   "cell_type": "code",
   "execution_count": null,
   "id": "6cd52e4a-e156-4632-bcc5-68607a946c53",
   "metadata": {},
   "outputs": [],
   "source": [
    "from flask import Flask, url_for\n",
    "\n",
    "app = Flask(__name__)\n",
    "\n",
    "@app.route('/')\n",
    "def index():\n",
    "    return 'Home Page'\n",
    "\n",
    "@app.route('/user/<username>')\n",
    "def user_profile(username):\n",
    "    return f'Welcome, {username}!'\n",
    "\n",
    "if __name__ == '__main__':\n",
    "    with app.test_request_context():\n",
    "        # Using url_for() to generate URLs for the defined routes\n",
    "        home_url = url_for('index')\n",
    "        user_url = url_for('user_profile', username='john')\n",
    "\n",
    "        print('Generated URLs:')\n",
    "        print('Home Page URL:', home_url)\n",
    "        print('User Profile URL:', user_url)\n"
   ]
  }
 ],
 "metadata": {
  "kernelspec": {
   "display_name": "Python 3 (ipykernel)",
   "language": "python",
   "name": "python3"
  },
  "language_info": {
   "codemirror_mode": {
    "name": "ipython",
    "version": 3
   },
   "file_extension": ".py",
   "mimetype": "text/x-python",
   "name": "python",
   "nbconvert_exporter": "python",
   "pygments_lexer": "ipython3",
   "version": "3.10.8"
  }
 },
 "nbformat": 4,
 "nbformat_minor": 5
}
