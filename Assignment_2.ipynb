{
 "cells": [
  {
   "cell_type": "markdown",
   "id": "d05cdedf-1779-46cb-b91c-f2c866000838",
   "metadata": {},
   "source": [
    "## Q1. How do you comment code in Python? What are the different types of comments?"
   ]
  },
  {
   "cell_type": "markdown",
   "id": "ab7b8bf2-91e5-499a-8d87-53c05b6a7443",
   "metadata": {},
   "source": [
    "Ans_1: We can comment code in Python by using \"#\" symbol \n",
    "      \n",
    "      There are two types of commenting in Python:\n",
    "       1. single line comment : achieved by using \"#\" symbol\n",
    "           Eg:\n",
    "               # this is a comment\n",
    "       2. multi line comment : achieved by using ''' (three inverted commas)\n",
    "           Eg: \n",
    "               ''' this is \n",
    "                   a multi line comment '''"
   ]
  },
  {
   "cell_type": "markdown",
   "id": "86167246-e0c7-4b85-a34b-bb1f7eb94c57",
   "metadata": {},
   "source": [
    "## Q2. What are variables in Python? How do you declare and assign values to variables?"
   ]
  },
  {
   "cell_type": "markdown",
   "id": "d4bfc607-7cf8-414d-9723-4e5d51fa34e8",
   "metadata": {},
   "source": [
    "Ans_2: Variables in Python are like container which holds the value assigned to them.\n",
    "\n",
    "       Eg:\n",
    "            var_1 = 23 #this is variable containing value as 23"
   ]
  },
  {
   "cell_type": "markdown",
   "id": "744369fd-f6d0-4347-b4e9-6a0b0eab192b",
   "metadata": {},
   "source": [
    "## Q3. How do you convert one data type to another in Python?\n"
   ]
  },
  {
   "cell_type": "markdown",
   "id": "22f19621-b09e-417e-bb3b-5b73f0d3f294",
   "metadata": {},
   "source": [
    "Ans_3: By using typecasting\n",
    "        \n",
    "         Eg: \n",
    "            var = 23\n",
    "            float(var)"
   ]
  },
  {
   "cell_type": "markdown",
   "id": "c17426e2-2e87-40cd-9141-8510f194dcd9",
   "metadata": {},
   "source": [
    "## Q4. How do you write and execute a Python script from the command line?"
   ]
  },
  {
   "cell_type": "code",
   "execution_count": null,
   "id": "142c6370-1585-4347-95e7-95555a65db09",
   "metadata": {},
   "outputs": [],
   "source": [
    "Ans_4 : \n",
    "        1. Verify your terminal or command prompt can run Python\n",
    "        2. Create a Python script that is error-free\n",
    "        3. Use python your/file/name.py to run your script from the terminal"
   ]
  },
  {
   "cell_type": "markdown",
   "id": "83da78b8-b4c3-4eee-a95b-083df8f03414",
   "metadata": {},
   "source": [
    "## Q5. Given a list my_list = [1, 2, 3, 4, 5], write the code to slice the list and obtain the sub-list [2, 3]."
   ]
  },
  {
   "cell_type": "code",
   "execution_count": 5,
   "id": "e222140c-068a-402b-952f-4c4412d7537f",
   "metadata": {},
   "outputs": [
    {
     "data": {
      "text/plain": [
       "[2, 3]"
      ]
     },
     "execution_count": 5,
     "metadata": {},
     "output_type": "execute_result"
    }
   ],
   "source": [
    "my_list = [1,2,3,4,5]\n",
    "my_list[1:3]"
   ]
  },
  {
   "cell_type": "markdown",
   "id": "1c7be809-59a0-495e-b072-6001704b7083",
   "metadata": {},
   "source": [
    "## Q6. What is a complex number in mathematics, and how is it represented in Python?"
   ]
  },
  {
   "cell_type": "markdown",
   "id": "f44239bc-1b4d-4d61-a53b-a3fa2fd74261",
   "metadata": {},
   "source": [
    "Ans_6 : Complex number is the element of number system which is in the form of \"x+ij\" where \"x\" and \"j\" are real numbers and \"i\" is an imaginary\n",
    "        number.\n",
    "        \n",
    "        It is represented as \"x+yi\" in python"
   ]
  },
  {
   "cell_type": "markdown",
   "id": "08cace69-3849-4c15-b07b-571a0d563a30",
   "metadata": {},
   "source": [
    "## Q7. What is the correct way to declare a variable named age and assign the value 25 to it?"
   ]
  },
  {
   "cell_type": "code",
   "execution_count": 7,
   "id": "8d265adf-5fa4-4b0b-939a-74c4233d70e2",
   "metadata": {},
   "outputs": [
    {
     "data": {
      "text/plain": [
       "25"
      ]
     },
     "execution_count": 7,
     "metadata": {},
     "output_type": "execute_result"
    }
   ],
   "source": [
    "age = 25\n",
    "age"
   ]
  },
  {
   "cell_type": "markdown",
   "id": "3034b64a-3339-4eaa-b38e-e9a82cf16409",
   "metadata": {},
   "source": [
    "## Q8. Declare a variable named price and assign the value 9.99 to it. What data type does this variable belong to?"
   ]
  },
  {
   "cell_type": "code",
   "execution_count": 8,
   "id": "93d9f148-e5c6-43f4-bde1-cbc8e2dba32a",
   "metadata": {},
   "outputs": [
    {
     "data": {
      "text/plain": [
       "float"
      ]
     },
     "execution_count": 8,
     "metadata": {},
     "output_type": "execute_result"
    }
   ],
   "source": [
    "price = 9.99\n",
    "type(price)"
   ]
  },
  {
   "cell_type": "markdown",
   "id": "e94eec1f-4900-4c72-a0ca-71e04e5dc0d5",
   "metadata": {},
   "source": [
    "## Q9. Create a variable named name and assign your full name to it as a string. How would you print the value of this variable?"
   ]
  },
  {
   "cell_type": "code",
   "execution_count": 9,
   "id": "00276d20-5e85-4ee5-bcfc-d45050a2da87",
   "metadata": {},
   "outputs": [
    {
     "name": "stdout",
     "output_type": "stream",
     "text": [
      "Paras Rajpal\n"
     ]
    }
   ],
   "source": [
    "name = \"Paras Rajpal\"\n",
    "print(name)"
   ]
  },
  {
   "cell_type": "markdown",
   "id": "e2e8e8b7-43df-4610-8f05-e6d8ec4ef29b",
   "metadata": {},
   "source": [
    "## Q10. Given the string \"Hello, World!\", extract the substring \"World\"."
   ]
  },
  {
   "cell_type": "code",
   "execution_count": 10,
   "id": "a6b08640-f65f-40cb-ac0e-0571df318ce4",
   "metadata": {},
   "outputs": [
    {
     "data": {
      "text/plain": [
       "'World'"
      ]
     },
     "execution_count": 10,
     "metadata": {},
     "output_type": "execute_result"
    }
   ],
   "source": [
    "str = \"Hello, World!\"\n",
    "str[-6:-1]"
   ]
  },
  {
   "cell_type": "markdown",
   "id": "a60fe84a-a526-46fa-888c-500c3d478323",
   "metadata": {},
   "source": [
    "## Q11. Create a variable named \"is_student\" and assign it a boolean value indicating whether you are currently a student or not."
   ]
  },
  {
   "cell_type": "code",
   "execution_count": 11,
   "id": "02de955c-d6b7-49bc-b4d9-d8bfd7879d99",
   "metadata": {},
   "outputs": [],
   "source": [
    "is_student = False"
   ]
  }
 ],
 "metadata": {
  "kernelspec": {
   "display_name": "Python 3 (ipykernel)",
   "language": "python",
   "name": "python3"
  },
  "language_info": {
   "codemirror_mode": {
    "name": "ipython",
    "version": 3
   },
   "file_extension": ".py",
   "mimetype": "text/x-python",
   "name": "python",
   "nbconvert_exporter": "python",
   "pygments_lexer": "ipython3",
   "version": "3.10.8"
  }
 },
 "nbformat": 4,
 "nbformat_minor": 5
}
