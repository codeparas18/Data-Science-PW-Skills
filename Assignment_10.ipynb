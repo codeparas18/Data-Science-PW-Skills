{
 "cells": [
  {
   "cell_type": "markdown",
   "id": "81d62255-c277-45b5-b31f-e5031ab0e77a",
   "metadata": {},
   "source": [
    "Q1. What is multiprocessing in python? Why is it useful?"
   ]
  },
  {
   "cell_type": "markdown",
   "id": "11e5ac61-4549-4fc0-b971-8a0fcce2e3e1",
   "metadata": {},
   "source": [
    "Ans_1 : Multiprocessing is the ability of the system to support more than one processor at same unit of\n",
    "time. Applications in a multiprocessing system are broken to smaller routines that run independently.\n",
    "\n",
    "It is useful because it reduces the time complexity and also helps the CPU can easily executes several tasks \n",
    "at once, with each task using its own processor."
   ]
  },
  {
   "cell_type": "markdown",
   "id": "b75897b1-e1b1-4c64-a667-6b36a198be46",
   "metadata": {},
   "source": [
    "Q2. What are the differences between multiprocessing and multithreading?"
   ]
  },
  {
   "cell_type": "markdown",
   "id": "e33ae892-742f-4d11-acbb-85b987ba0089",
   "metadata": {},
   "source": [
    "Ans_2 :\n",
    "    \n",
    "    Multiprocessing : It is a system which has more than one or two processor. In Multiprocessing, CPUs are added\n",
    "                      for increasing computing speed of the system.\n",
    "        \n",
    "    Multithreading : It is a system which has more than one or thread of a process for increasing the computing\n",
    "                     speed of the system.\n",
    "\n",
    "    "
   ]
  },
  {
   "cell_type": "markdown",
   "id": "e4fd3fe3-6fdb-402b-ad87-8533ade553e9",
   "metadata": {},
   "source": [
    "Q3. Write a python code to create a process using the multiprocessing module."
   ]
  },
  {
   "cell_type": "code",
   "execution_count": 4,
   "id": "73fe7a83-cabe-4bcc-8042-7b49a18831e7",
   "metadata": {},
   "outputs": [
    {
     "name": "stdout",
     "output_type": "stream",
     "text": [
      "4\n",
      "9\n",
      "16\n"
     ]
    }
   ],
   "source": [
    "import multiprocessing\n",
    "\n",
    "def square():\n",
    "    for i in [2,3,4]:\n",
    "        print(i**2)\n",
    "        \n",
    "m1 = multiprocessing.Process(target = square)\n",
    "\n",
    "m1.start()\n",
    "m1.join()"
   ]
  },
  {
   "cell_type": "markdown",
   "id": "761adae1-346d-4ac9-8f6d-32bdbff16900",
   "metadata": {},
   "source": [
    "Q4. What is a multiprocessing pool in python? Why is it used?"
   ]
  },
  {
   "cell_type": "markdown",
   "id": "59ec9b89-f05f-4f8d-b691-91002c462917",
   "metadata": {},
   "source": [
    "Ans_4 : \n",
    "        Multiprocessing pool used for distributing and managing a pool of worker processes that can\n",
    "        execute tasks concurrently. The main purpose of using a multiprocessing pool is to efficiently \n",
    "        parallelize and distribute work across multiple processes to take advantage of multi-core CPUs and\n",
    "        perform tasks more quickly.\n",
    "        \n",
    "        It is used for: \n",
    "        \n",
    "        1. Concurrent Execution\n",
    "        2. Load Distribution\n",
    "        3. Resource Management\n",
    "        4. Ease of use"
   ]
  },
  {
   "cell_type": "markdown",
   "id": "00bfb5c2-e663-4944-9000-b910bd8f26df",
   "metadata": {},
   "source": [
    "Q5. How can we create a pool of worker processes in python using the multiprocessing module?"
   ]
  },
  {
   "cell_type": "markdown",
   "id": "410c83d3-6ed2-4352-9d3b-5f51cc40430e",
   "metadata": {},
   "source": [
    "Ans_5 : We can create a pool of processes by usin multiprocessing.pool module\n",
    "        Example:"
   ]
  },
  {
   "cell_type": "code",
   "execution_count": 9,
   "id": "52af5d60-95a3-4a2d-b1d4-801f05c2862e",
   "metadata": {},
   "outputs": [
    {
     "name": "stdout",
     "output_type": "stream",
     "text": [
      "[4, 9, 16, 25, 36, 49, 64]\n"
     ]
    }
   ],
   "source": [
    "import multiprocessing \n",
    "\n",
    "def square(n):\n",
    "    return n**2\n",
    "\n",
    "if __name__ == \"__main__\":\n",
    "    with multiprocessing.Pool(processes = 5) as pool:\n",
    "        arr = [2,3,4,5,6,7,8]\n",
    "        \n",
    "        ans = pool.map(square,arr)\n",
    "        \n",
    "        \n",
    "    print(ans)\n",
    "        "
   ]
  },
  {
   "cell_type": "markdown",
   "id": "b2f2ff16-421d-46e4-827a-f5e08a44e288",
   "metadata": {},
   "source": [
    "Q6. Write a python program to create 4 processes, each process should print a different number using the\n",
    "multiprocessing module in python."
   ]
  },
  {
   "cell_type": "code",
   "execution_count": 13,
   "id": "3551c35a-cc1c-4a41-90df-fd9cbb2f07cc",
   "metadata": {},
   "outputs": [
    {
     "ename": "AttributeError",
     "evalue": "'list' object has no attribute 'start'",
     "output_type": "error",
     "traceback": [
      "\u001b[0;31m---------------------------------------------------------------------------\u001b[0m",
      "\u001b[0;31mAttributeError\u001b[0m                            Traceback (most recent call last)",
      "Cell \u001b[0;32mIn[13], line 11\u001b[0m\n\u001b[1;32m      9\u001b[0m     p \u001b[38;5;241m=\u001b[39m [multiprocessing\u001b[38;5;241m.\u001b[39mProcess(target \u001b[38;5;241m=\u001b[39m print_num, args \u001b[38;5;241m=\u001b[39m (i,))]\n\u001b[1;32m     10\u001b[0m     processes\u001b[38;5;241m.\u001b[39mappend(p)\n\u001b[0;32m---> 11\u001b[0m     \u001b[43mp\u001b[49m\u001b[38;5;241;43m.\u001b[39;49m\u001b[43mstart\u001b[49m()\n\u001b[1;32m     13\u001b[0m \u001b[38;5;28;01mfor\u001b[39;00m p \u001b[38;5;129;01min\u001b[39;00m processes:\n\u001b[1;32m     14\u001b[0m     p\u001b[38;5;241m.\u001b[39mjoin()\n",
      "\u001b[0;31mAttributeError\u001b[0m: 'list' object has no attribute 'start'"
     ]
    }
   ],
   "source": [
    "import multiprocessing\n",
    "\n",
    "def print_num(n):\n",
    "    print(\"Process{n} : {n}\")\n",
    "\n",
    "if __name__ == \"__main__\":\n",
    "    processes = []\n",
    "    for i in range(1,5):\n",
    "        p = [multiprocessing.Process(target = print_num, args = (i,))]\n",
    "        processes.append(p)\n",
    "        p.start()\n",
    "        \n",
    "    for p in processes:\n",
    "        p.join()"
   ]
  },
  {
   "cell_type": "code",
   "execution_count": null,
   "id": "6456b55c-b89a-4121-85d0-2d80e090bff6",
   "metadata": {},
   "outputs": [],
   "source": []
  }
 ],
 "metadata": {
  "kernelspec": {
   "display_name": "Python 3 (ipykernel)",
   "language": "python",
   "name": "python3"
  },
  "language_info": {
   "codemirror_mode": {
    "name": "ipython",
    "version": 3
   },
   "file_extension": ".py",
   "mimetype": "text/x-python",
   "name": "python",
   "nbconvert_exporter": "python",
   "pygments_lexer": "ipython3",
   "version": "3.10.8"
  }
 },
 "nbformat": 4,
 "nbformat_minor": 5
}
