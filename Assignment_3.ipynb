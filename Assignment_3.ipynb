{
 "cells": [
  {
   "cell_type": "markdown",
   "id": "38423051-8bb7-491a-adef-21608c1ca8db",
   "metadata": {},
   "source": [
    "Q1. Which keyword is used to create a function? Create a function to return a list of odd numbers in the\n",
    "range of 1 to 25."
   ]
  },
  {
   "cell_type": "markdown",
   "id": "e6c934d2-a7d2-45ed-94b7-e389dc948710",
   "metadata": {},
   "source": [
    "Ans_1 : \"def\" keyword is used to create a function."
   ]
  },
  {
   "cell_type": "code",
   "execution_count": 4,
   "id": "58507438-ae70-48b2-bfcf-b4b7b7253ec2",
   "metadata": {},
   "outputs": [
    {
     "name": "stdout",
     "output_type": "stream",
     "text": [
      "1  \n",
      "3  \n",
      "5  \n",
      "7  \n",
      "9  \n",
      "11  \n",
      "13  \n",
      "15  \n",
      "17  \n",
      "19  \n",
      "21  \n",
      "23  \n"
     ]
    }
   ],
   "source": [
    "def get_odd():\n",
    "    for i in range(1,25):\n",
    "        if i%2 != 0:\n",
    "            print(i,)\n",
    "\n",
    "get_odd()"
   ]
  },
  {
   "cell_type": "markdown",
   "id": "7a02c5a8-7344-45db-822d-ef0938eb91c7",
   "metadata": {},
   "source": [
    "Q2. Why *args and **kwargs is used in some functions? Create a function each for *args and **kwargs to\n",
    "demonstrate their use."
   ]
  },
  {
   "cell_type": "code",
   "execution_count": null,
   "id": "731308ac-cc8b-4e31-83db-0c70d80500cc",
   "metadata": {},
   "outputs": [],
   "source": [
    "Ans_2: *args and **kwargs are used used in some function when we are unsure about the number of passing arguements."
   ]
  },
  {
   "cell_type": "markdown",
   "id": "204fa050-7148-4f9a-9585-b364d1c2f6be",
   "metadata": {},
   "source": [
    "Q3. What is an iterator in python? Name the method used to initialise the iterator object and the method\n",
    "used for iteration. Use these methods to print the first five elements of the given list [2, 4, 6, 8, 10, 12, 14, 16,18, 20]."
   ]
  },
  {
   "cell_type": "markdown",
   "id": "a5ec4ea3-78d7-48c9-a6ec-e07ef57ea00c",
   "metadata": {},
   "source": [
    "Ans_3: Iterator is an object which points to an element present inside the container.\n",
    "For loops use iterator to iterate over the list and other containers."
   ]
  },
  {
   "cell_type": "code",
   "execution_count": 10,
   "id": "10026d6c-f923-4804-8dd9-1662491a2a72",
   "metadata": {},
   "outputs": [
    {
     "name": "stdout",
     "output_type": "stream",
     "text": [
      "2\n",
      "4\n",
      "6\n",
      "8\n",
      "10\n"
     ]
    }
   ],
   "source": [
    "l = [2,4,6,8,10,12,14,16,18,20]\n",
    "count = 0\n",
    "for i in l:\n",
    "    if count < 5:\n",
    "        print(i)\n",
    "        count += 1"
   ]
  },
  {
   "cell_type": "markdown",
   "id": "82995876-2176-4b6a-9954-58d467fff4e2",
   "metadata": {},
   "source": [
    "Q4. What is a generator function in python? Why yield keyword is used? Give an example of a generator\n",
    "function."
   ]
  },
  {
   "cell_type": "markdown",
   "id": "f2a49806-2693-4891-a834-25768f8b6400",
   "metadata": {},
   "source": [
    "Ans_4: The generator function is just like a normal function having no return keyword in it. \"yield\" is used in \n",
    "place of \"return\". \"yield\" keyword is used to produce value. Generator function can resumed from it left until\n",
    "next() is not called."
   ]
  },
  {
   "cell_type": "code",
   "execution_count": 3,
   "id": "79916d1b-f535-4765-b824-47e9b4169a8f",
   "metadata": {},
   "outputs": [
    {
     "name": "stdout",
     "output_type": "stream",
     "text": [
      "0\n",
      "1\n",
      "1\n",
      "2\n",
      "3\n",
      "5\n",
      "8\n",
      "13\n",
      "21\n",
      "34\n"
     ]
    }
   ],
   "source": [
    "# fibonacci series\n",
    "def fib(n):\n",
    "    a,b = 0,1\n",
    "    for i in range(n):\n",
    "        yield a\n",
    "        a,b = b,b+a\n",
    "        \n",
    "        \n",
    "x = fib(10)\n",
    "    \n",
    "for i in range(10):\n",
    "    print(next(x))"
   ]
  },
  {
   "cell_type": "markdown",
   "id": "f4fbfb04-5192-496d-bcc3-5ad51d801366",
   "metadata": {},
   "source": [
    "Q5. Create a generator function for prime numbers less than 1000. Use the next() method to print the\n",
    "first 20 prime numbers."
   ]
  },
  {
   "cell_type": "code",
   "execution_count": 12,
   "id": "cfd5af32-5821-4f49-9583-8f1d3bda5059",
   "metadata": {},
   "outputs": [
    {
     "name": "stdout",
     "output_type": "stream",
     "text": [
      "2\n",
      "4\n",
      "6\n",
      "8\n",
      "10\n",
      "12\n",
      "14\n",
      "16\n",
      "18\n",
      "20\n",
      "22\n",
      "24\n",
      "26\n",
      "28\n",
      "30\n",
      "32\n",
      "34\n",
      "36\n",
      "38\n",
      "40\n"
     ]
    }
   ],
   "source": [
    "def prime():\n",
    "    for i in range(1,1000):\n",
    "        if i%2==0:\n",
    "            yield i\n",
    "            \n",
    "x = prime()\n",
    "\n",
    "for i in range(0,20):\n",
    "    print(next(x))"
   ]
  },
  {
   "cell_type": "code",
   "execution_count": null,
   "id": "7d3d7ed2-d73e-42e0-8c16-30452e3fdaeb",
   "metadata": {},
   "outputs": [],
   "source": []
  }
 ],
 "metadata": {
  "kernelspec": {
   "display_name": "Python 3 (ipykernel)",
   "language": "python",
   "name": "python3"
  },
  "language_info": {
   "codemirror_mode": {
    "name": "ipython",
    "version": 3
   },
   "file_extension": ".py",
   "mimetype": "text/x-python",
   "name": "python",
   "nbconvert_exporter": "python",
   "pygments_lexer": "ipython3",
   "version": "3.10.8"
  }
 },
 "nbformat": 4,
 "nbformat_minor": 5
}
